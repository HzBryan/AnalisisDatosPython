{
 "cells": [
  {
   "attachments": {},
   "cell_type": "markdown",
   "metadata": {},
   "source": [
    "# Visualización de Datos\n",
    "\n",
    "## 1. Objetivos:\n",
    "- Explorar la distribución de los datos\n",
    "- Obtener una imagen general de que tan organizada esta la información\n",
    "- Identificar valores atípicos"
   ]
  },
  {
   "cell_type": "code",
   "execution_count": 35,
   "metadata": {},
   "outputs": [],
   "source": [
    "import pandas as pd\n",
    "import seaborn as sns\n",
    "import matplotlib.pyplot as plt\n",
    "from scipy.stats import skew, kurtosis"
   ]
  },
  {
   "cell_type": "code",
   "execution_count": 59,
   "metadata": {},
   "outputs": [],
   "source": [
    "df = pd.read_csv('../data/shop_customer_data_2022.csv',index_col=0)"
   ]
  },
  {
   "cell_type": "code",
   "execution_count": 60,
   "metadata": {},
   "outputs": [],
   "source": [
    "df.rename(\n",
    "    columns={\"Annual Income ($)\": \"Annual Inconme\", \"Spending Score (1-100)\": \"Spending Score\"},\n",
    "    inplace=True\n",
    ")"
   ]
  },
  {
   "cell_type": "code",
   "execution_count": 20,
   "metadata": {},
   "outputs": [
    {
     "data": {
      "text/html": [
       "<div>\n",
       "<style scoped>\n",
       "    .dataframe tbody tr th:only-of-type {\n",
       "        vertical-align: middle;\n",
       "    }\n",
       "\n",
       "    .dataframe tbody tr th {\n",
       "        vertical-align: top;\n",
       "    }\n",
       "\n",
       "    .dataframe thead th {\n",
       "        text-align: right;\n",
       "    }\n",
       "</style>\n",
       "<table border=\"1\" class=\"dataframe\">\n",
       "  <thead>\n",
       "    <tr style=\"text-align: right;\">\n",
       "      <th></th>\n",
       "      <th>Gender</th>\n",
       "      <th>Age</th>\n",
       "      <th>Annual Inconme</th>\n",
       "      <th>Spending Score</th>\n",
       "      <th>Profession</th>\n",
       "      <th>Work Experience</th>\n",
       "      <th>Family Size</th>\n",
       "    </tr>\n",
       "    <tr>\n",
       "      <th>CustomerID</th>\n",
       "      <th></th>\n",
       "      <th></th>\n",
       "      <th></th>\n",
       "      <th></th>\n",
       "      <th></th>\n",
       "      <th></th>\n",
       "      <th></th>\n",
       "    </tr>\n",
       "  </thead>\n",
       "  <tbody>\n",
       "    <tr>\n",
       "      <th>1</th>\n",
       "      <td>Male</td>\n",
       "      <td>32</td>\n",
       "      <td>15000</td>\n",
       "      <td>39</td>\n",
       "      <td>Healthcare</td>\n",
       "      <td>1</td>\n",
       "      <td>4</td>\n",
       "    </tr>\n",
       "    <tr>\n",
       "      <th>2</th>\n",
       "      <td>Male</td>\n",
       "      <td>24</td>\n",
       "      <td>35000</td>\n",
       "      <td>81</td>\n",
       "      <td>Engineer</td>\n",
       "      <td>3</td>\n",
       "      <td>3</td>\n",
       "    </tr>\n",
       "    <tr>\n",
       "      <th>3</th>\n",
       "      <td>Female</td>\n",
       "      <td>28</td>\n",
       "      <td>86000</td>\n",
       "      <td>6</td>\n",
       "      <td>Engineer</td>\n",
       "      <td>1</td>\n",
       "      <td>1</td>\n",
       "    </tr>\n",
       "    <tr>\n",
       "      <th>4</th>\n",
       "      <td>Female</td>\n",
       "      <td>23</td>\n",
       "      <td>59000</td>\n",
       "      <td>77</td>\n",
       "      <td>Lawyer</td>\n",
       "      <td>0</td>\n",
       "      <td>2</td>\n",
       "    </tr>\n",
       "    <tr>\n",
       "      <th>5</th>\n",
       "      <td>Female</td>\n",
       "      <td>31</td>\n",
       "      <td>38000</td>\n",
       "      <td>40</td>\n",
       "      <td>Entertainment</td>\n",
       "      <td>2</td>\n",
       "      <td>6</td>\n",
       "    </tr>\n",
       "  </tbody>\n",
       "</table>\n",
       "</div>"
      ],
      "text/plain": [
       "            Gender  Age  Annual Inconme  Spending Score     Profession  \\\n",
       "CustomerID                                                               \n",
       "1             Male   32           15000              39     Healthcare   \n",
       "2             Male   24           35000              81       Engineer   \n",
       "3           Female   28           86000               6       Engineer   \n",
       "4           Female   23           59000              77         Lawyer   \n",
       "5           Female   31           38000              40  Entertainment   \n",
       "\n",
       "            Work Experience  Family Size  \n",
       "CustomerID                                \n",
       "1                         1            4  \n",
       "2                         3            3  \n",
       "3                         1            1  \n",
       "4                         0            2  \n",
       "5                         2            6  "
      ]
     },
     "execution_count": 20,
     "metadata": {},
     "output_type": "execute_result"
    }
   ],
   "source": [
    "df.head()"
   ]
  },
  {
   "attachments": {},
   "cell_type": "markdown",
   "metadata": {},
   "source": [
    "### Boxplot (Caja y Bigotes)"
   ]
  },
  {
   "cell_type": "code",
   "execution_count": 21,
   "metadata": {},
   "outputs": [
    {
     "data": {
      "text/plain": [
       "<matplotlib.lines.Line2D at 0x1bf4bc7ed00>"
      ]
     },
     "execution_count": 21,
     "metadata": {},
     "output_type": "execute_result"
    },
    {
     "data": {
      "image/png": "[encoded data removed]",
      "text/plain": [
       "<Figure size 432x288 with 1 Axes>"
      ]
     },
     "metadata": {},
     "output_type": "display_data"
    }
   ],
   "source": [
    "sns.set_style(\"whitegrid\") \n",
    "\n",
    "sns.boxplot(x=df['Spending Score'])\n",
    "#La mayoria de los datos estan concentrados entre los valores 30 y 75\n",
    "#La linea vertical indica el percentil 50\n",
    "#Aqui tenemos una distribución que tiende hacia los valores centrales y no hay datos dispersos\n",
    "plt.axvline(df['Spending Score'].mean(), c='r')  #Promedio"
   ]
  },
  {
   "cell_type": "code",
   "execution_count": 22,
   "metadata": {},
   "outputs": [
    {
     "data": {
      "text/plain": [
       "<matplotlib.lines.Line2D at 0x1bf4bda3460>"
      ]
     },
     "execution_count": 22,
     "metadata": {},
     "output_type": "execute_result"
    },
    {
     "data": {
      "image/png": "[encoded data removed]",
      "text/plain": [
       "<Figure size 432x288 with 1 Axes>"
      ]
     },
     "metadata": {},
     "output_type": "display_data"
    }
   ],
   "source": [
    "sns.set_style(\"whitegrid\") \n",
    "\n",
    "sns.boxplot(x=df['Annual Inconme'])\n",
    "#La mayoria de los datos estan concentrados entre los valores 75.000 y 150.000\n",
    "#La linea vertical indica el percentil 50 - 110045.0\n",
    "#Aqui tenemos una distribución que tiende sutilmente hacia la derecha \n",
    "plt.axvline(df['Annual Inconme'].mean(), c='r') #Promedio - 110731.82"
   ]
  },
  {
   "attachments": {},
   "cell_type": "markdown",
   "metadata": {},
   "source": [
    "### Tabla de Frecuencia\n",
    "A continuación segmentare la variable Annual Income en 15 partes para evaluar la distribución de los datos"
   ]
  },
  {
   "cell_type": "code",
   "execution_count": 61,
   "metadata": {},
   "outputs": [
    {
     "data": {
      "text/plain": [
       "Annual Inconme\n",
       "(-189.974, 12664.933]        88\n",
       "(12664.933, 25329.867]       29\n",
       "(25329.867, 37994.8]         34\n",
       "(37994.8, 50659.733]         49\n",
       "(50659.733, 63324.667]      167\n",
       "(63324.667, 75989.6]        191\n",
       "(75989.6, 88654.533]        188\n",
       "(88654.533, 101319.467]     186\n",
       "(101319.467, 113984.4]      154\n",
       "(113984.4, 126649.333]      158\n",
       "(126649.333, 139314.267]    144\n",
       "(139314.267, 151979.2]      173\n",
       "(151979.2, 164644.133]      134\n",
       "(164644.133, 177309.067]    155\n",
       "(177309.067, 189974.0]      150\n",
       "Name: Annual Inconme, dtype: int64"
      ]
     },
     "execution_count": 61,
     "metadata": {},
     "output_type": "execute_result"
    }
   ],
   "source": [
    "inconme = df['Annual Inconme']\n",
    "segmentos = pd.cut(inconme, 15)\n",
    "\n",
    "df['Annual Inconme'].groupby(segmentos).count()\n",
    "#A pesar de que el dataframe no tiene valores negativos, \n",
    "#vemos la representación del primer segmento con un limite inicial negativo\n",
    "\n",
    "#Podemos confirmar con esta tabla que no hay valores atipicos"
   ]
  },
  {
   "cell_type": "code",
   "execution_count": 25,
   "metadata": {},
   "outputs": [
    {
     "data": {
      "text/plain": [
       "Age\n",
       "(11.917, 20.3]     44\n",
       "(20.3, 28.6]      285\n",
       "(28.6, 36.9]      347\n",
       "(36.9, 45.2]      248\n",
       "(45.2, 53.5]      180\n",
       "(53.5, 61.8]      200\n",
       "(61.8, 70.1]      332\n",
       "(70.1, 78.4]      159\n",
       "(78.4, 86.7]      168\n",
       "(86.7, 95.0]       37\n",
       "Name: Age, dtype: int64"
      ]
     },
     "execution_count": 25,
     "metadata": {},
     "output_type": "execute_result"
    }
   ],
   "source": [
    "age = df['Age']\n",
    "segmentos = pd.cut(age, 10)\n",
    "\n",
    "df['Age'].groupby(segmentos).count()"
   ]
  },
  {
   "cell_type": "code",
   "execution_count": 45,
   "metadata": {},
   "outputs": [],
   "source": [
    "score = df['Spending Score']\n",
    "fsize = df['Family Size']"
   ]
  },
  {
   "attachments": {},
   "cell_type": "markdown",
   "metadata": {},
   "source": [
    "### Histograma"
   ]
  },
  {
   "cell_type": "code",
   "execution_count": 38,
   "metadata": {},
   "outputs": [
    {
     "data": {
      "text/plain": [
       "<AxesSubplot:xlabel='Age', ylabel='Count'>"
      ]
     },
     "execution_count": 38,
     "metadata": {},
     "output_type": "execute_result"
    },
    {
     "data": {
      "image/png": "[encoded data removed]",
      "text/plain": [
       "<Figure size 432x288 with 1 Axes>"
      ]
     },
     "metadata": {},
     "output_type": "display_data"
    }
   ],
   "source": [
    "sns.set_style('white')\n",
    "sns.histplot(age) "
   ]
  },
  {
   "cell_type": "code",
   "execution_count": 37,
   "metadata": {},
   "outputs": [
    {
     "name": "stdout",
     "output_type": "stream",
     "text": [
      "Curtosis: -1.1865904428902931\n",
      "Asimetría: 0.18170657575544558\n"
     ]
    }
   ],
   "source": [
    "print(f'Curtosis: {kurtosis(age)}') #No hay dispersión, colas cortas\n",
    "print(f'Asimetría: {skew(age)}')  #Cola Derecha mas larga"
   ]
  },
  {
   "cell_type": "code",
   "execution_count": 49,
   "metadata": {},
   "outputs": [
    {
     "data": {
      "text/plain": [
       "<AxesSubplot:xlabel='Annual Inconme', ylabel='Count'>"
      ]
     },
     "execution_count": 49,
     "metadata": {},
     "output_type": "execute_result"
    },
    {
     "data": {
      "image/png": "[encoded data removed]",
      "text/plain": [
       "<Figure size 432x288 with 1 Axes>"
      ]
     },
     "metadata": {},
     "output_type": "display_data"
    }
   ],
   "source": [
    "sns.histplot(inconme, kde=False)"
   ]
  },
  {
   "cell_type": "code",
   "execution_count": 40,
   "metadata": {},
   "outputs": [
    {
     "name": "stdout",
     "output_type": "stream",
     "text": [
      "Curtosis: -0.7115659435465584\n",
      "Asimetría: -0.20751404830570178\n"
     ]
    }
   ],
   "source": [
    "print(f'Curtosis: {kurtosis(inconme)}') #No hay mucha dispersión, colas cortas\n",
    "print(f'Asimetría: {skew(inconme)}') #Cola Izquierda mas larga"
   ]
  },
  {
   "cell_type": "code",
   "execution_count": 77,
   "metadata": {},
   "outputs": [
    {
     "data": {
      "text/plain": [
       "<AxesSubplot:xlabel='Annual Inconme', ylabel='Count'>"
      ]
     },
     "execution_count": 77,
     "metadata": {},
     "output_type": "execute_result"
    },
    {
     "data": {
      "image/png": "[encoded data removed]",
      "text/plain": [
       "<Figure size 432x288 with 1 Axes>"
      ]
     },
     "metadata": {},
     "output_type": "display_data"
    }
   ],
   "source": [
    "inconme2 = df[df['Annual Inconme'] > 12000]\n",
    "inconme2 = inconme2['Annual Inconme']\n",
    "sns.histplot(inconme2) \n"
   ]
  },
  {
   "cell_type": "code",
   "execution_count": 79,
   "metadata": {},
   "outputs": [
    {
     "name": "stdout",
     "output_type": "stream",
     "text": [
      "Curtosis: -1.0097867736225052\n",
      "Asimetría: -0.0006652218199876752\n"
     ]
    }
   ],
   "source": [
    "#Que sucede al eliminar los registros con ingresos muy bajos\n",
    "print(f'Curtosis: {kurtosis(inconme2)}') #Aumenta la curtosis negativa, menor dispersión\n",
    "print(f'Asimetría: {skew(inconme2)}') # Mayor simetria"
   ]
  },
  {
   "cell_type": "code",
   "execution_count": 48,
   "metadata": {},
   "outputs": [
    {
     "data": {
      "text/plain": [
       "<AxesSubplot:xlabel='Spending Score', ylabel='Count'>"
      ]
     },
     "execution_count": 48,
     "metadata": {},
     "output_type": "execute_result"
    },
    {
     "data": {
      "image/png": "[encoded data removed]",
      "text/plain": [
       "<Figure size 432x288 with 1 Axes>"
      ]
     },
     "metadata": {},
     "output_type": "display_data"
    }
   ],
   "source": [
    "sns.histplot(score) "
   ]
  },
  {
   "cell_type": "code",
   "execution_count": 47,
   "metadata": {},
   "outputs": [
    {
     "name": "stdout",
     "output_type": "stream",
     "text": [
      "Curtosis: -1.1009801550230232\n",
      "Asimetría: 0.004551831047735134\n"
     ]
    }
   ],
   "source": [
    "print(f'Curtosis: {kurtosis(score)}') #Distribución uniforme\n",
    "print(f'Asimetría: {skew(score)}') #Alto grado de simetría"
   ]
  }
 ],
 "metadata": {
  "kernelspec": {
   "display_name": "base",
   "language": "python",
   "name": "python3"
  },
  "language_info": {
   "codemirror_mode": {
    "name": "ipython",
    "version": 3
   },
   "file_extension": ".py",
   "mimetype": "text/x-python",
   "name": "python",
   "nbconvert_exporter": "python",
   "pygments_lexer": "ipython3",
   "version": "3.9.7"
  },
  "orig_nbformat": 4,
  "vscode": {
   "interpreter": {
    "hash": "ad2bdc8ecc057115af97d19610ffacc2b4e99fae6737bb82f5d7fb13d2f2c186"
   }
  }
 },
 "nbformat": 4,
 "nbformat_minor": 2
}
